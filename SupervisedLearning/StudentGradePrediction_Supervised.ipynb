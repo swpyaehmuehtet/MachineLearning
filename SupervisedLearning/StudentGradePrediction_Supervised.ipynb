{
 "cells": [
  {
   "cell_type": "markdown",
   "id": "6ed28e80-11f0-4030-bda8-fbe5179ce22e",
   "metadata": {},
   "source": [
    "# StudentGradePrediction\n",
    "\n",
    "In this notebook we will explore the supervised classification machine learning algorithmn\n",
    "\n",
    "The goal is to clearly understand how classification work and to explore furthur into that catagory."
   ]
  },
  {
   "cell_type": "markdown",
   "id": "1052a557-47f5-4b49-af42-2eab58288761",
   "metadata": {},
   "source": [
    "## Intro\n",
    "\n",
    "First of all i would like this to be beginner friendly and easy to follow along and hope to increase my knowledge in this field, I will start Simple by making a dataframe of my own then explaining logc and then using a realdataset.\n",
    "<br>\n",
    "Predicting the student score always varied on different data such as anxiety,acedemic performnace,geographical location and their score in last few years or few months. But in our custom dataframe aimed to explain the logic we will only use small percenta"
   ]
  },
  {
   "cell_type": "code",
   "execution_count": 3,
   "id": "397089db-9761-4f74-b0dd-f6a745121b95",
   "metadata": {},
   "outputs": [],
   "source": [
    "import pandas as pd\n",
    "\n",
    "data = {\n",
    "    'Name': ['Alice', 'Bob', 'Charlie'],\n",
    "    'Score': [75, 20, 45],\n",
    "    'City': ['New York', 'Los Angeles', 'Chicago']\n",
    "}\n",
    "df = pd.DataFrame(data)"
   ]
  },
  {
   "cell_type": "code",
   "execution_count": 2,
   "id": "e94b49a6-411f-4cdf-8b30-cc57629150b9",
   "metadata": {},
   "outputs": [
    {
     "data": {
      "text/html": [
       "<div>\n",
       "<style scoped>\n",
       "    .dataframe tbody tr th:only-of-type {\n",
       "        vertical-align: middle;\n",
       "    }\n",
       "\n",
       "    .dataframe tbody tr th {\n",
       "        vertical-align: top;\n",
       "    }\n",
       "\n",
       "    .dataframe thead th {\n",
       "        text-align: right;\n",
       "    }\n",
       "</style>\n",
       "<table border=\"1\" class=\"dataframe\">\n",
       "  <thead>\n",
       "    <tr style=\"text-align: right;\">\n",
       "      <th></th>\n",
       "      <th>Name</th>\n",
       "      <th>Score</th>\n",
       "      <th>City</th>\n",
       "    </tr>\n",
       "  </thead>\n",
       "  <tbody>\n",
       "    <tr>\n",
       "      <th>0</th>\n",
       "      <td>Alice</td>\n",
       "      <td>75</td>\n",
       "      <td>New York</td>\n",
       "    </tr>\n",
       "    <tr>\n",
       "      <th>1</th>\n",
       "      <td>Bob</td>\n",
       "      <td>20</td>\n",
       "      <td>Los Angeles</td>\n",
       "    </tr>\n",
       "    <tr>\n",
       "      <th>2</th>\n",
       "      <td>Charlie</td>\n",
       "      <td>45</td>\n",
       "      <td>Chicago</td>\n",
       "    </tr>\n",
       "  </tbody>\n",
       "</table>\n",
       "</div>"
      ],
      "text/plain": [
       "      Name  Score         City\n",
       "0    Alice     75     New York\n",
       "1      Bob     20  Los Angeles\n",
       "2  Charlie     45      Chicago"
      ]
     },
     "execution_count": 2,
     "metadata": {},
     "output_type": "execute_result"
    }
   ],
   "source": [
    "df"
   ]
  },
  {
   "cell_type": "code",
   "execution_count": 4,
   "id": "7317ae87-5bfe-486b-9f41-223aa39cbc4d",
   "metadata": {},
   "outputs": [
    {
     "name": "stdout",
     "output_type": "stream",
     "text": [
      "<class 'pandas.core.frame.DataFrame'>\n",
      "RangeIndex: 3 entries, 0 to 2\n",
      "Data columns (total 3 columns):\n",
      " #   Column  Non-Null Count  Dtype \n",
      "---  ------  --------------  ----- \n",
      " 0   Name    3 non-null      object\n",
      " 1   Score   3 non-null      int64 \n",
      " 2   City    3 non-null      object\n",
      "dtypes: int64(1), object(2)\n",
      "memory usage: 200.0+ bytes\n"
     ]
    }
   ],
   "source": [
    "df.info()"
   ]
  }
 ],
 "metadata": {
  "kernelspec": {
   "display_name": "Python 3 (ipykernel)",
   "language": "python",
   "name": "python3"
  },
  "language_info": {
   "codemirror_mode": {
    "name": "ipython",
    "version": 3
   },
   "file_extension": ".py",
   "mimetype": "text/x-python",
   "name": "python",
   "nbconvert_exporter": "python",
   "pygments_lexer": "ipython3",
   "version": "3.10.8"
  }
 },
 "nbformat": 4,
 "nbformat_minor": 5
}
