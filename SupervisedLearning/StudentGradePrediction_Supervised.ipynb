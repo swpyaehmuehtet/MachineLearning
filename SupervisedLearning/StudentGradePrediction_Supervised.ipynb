{
 "cells": [
  {
   "cell_type": "markdown",
   "id": "6ed28e80-11f0-4030-bda8-fbe5179ce22e",
   "metadata": {},
   "source": [
    "# StudentGradePrediction"
   ]
  },
  {
   "cell_type": "markdown",
   "id": "026fed5c-8c44-40e0-bb6f-7cb8c40ad0b8",
   "metadata": {},
   "source": [
    "## In this notebook we will explore the supervised classification machine learning algorithmn\n",
    "\n",
    "The goal is to clearly understand how classification work and to explore furthur into that catagory."
   ]
  },
  {
   "cell_type": "code",
   "execution_count": null,
   "id": "397089db-9761-4f74-b0dd-f6a745121b95",
   "metadata": {},
   "outputs": [],
   "source": [
    "import pandas as pd"
   ]
  }
 ],
 "metadata": {
  "kernelspec": {
   "display_name": "Python 3 (ipykernel)",
   "language": "python",
   "name": "python3"
  },
  "language_info": {
   "codemirror_mode": {
    "name": "ipython",
    "version": 3
   },
   "file_extension": ".py",
   "mimetype": "text/x-python",
   "name": "python",
   "nbconvert_exporter": "python",
   "pygments_lexer": "ipython3",
   "version": "3.10.8"
  }
 },
 "nbformat": 4,
 "nbformat_minor": 5
}
