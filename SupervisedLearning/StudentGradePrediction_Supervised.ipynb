{
 "cells": [
  {
   "cell_type": "markdown",
   "id": "6ed28e80-11f0-4030-bda8-fbe5179ce22e",
   "metadata": {},
   "source": [
    "# StudentGradePrediction\n",
    "\n",
    "In this notebook we will explore the supervised classification machine learning algorithmn\n",
    "\n",
    "The goal is to clearly understand how classification work and to explore furthur into that catagory."
   ]
  },
  {
   "cell_type": "markdown",
   "id": "1052a557-47f5-4b49-af42-2eab58288761",
   "metadata": {},
   "source": [
    "## Intro\n",
    "\n",
    "First of all i would like this to be beginner friendly and easy to follow along and hope to increase my knowledge in this field, I will start Simple by making a dataframe of my own then explaining logc and then using a realdataset.\n",
    "<br>\n",
    "Predicting the student score always varied on different data such as anxiety,acedemic performnace,geographical location and their score in last few years or few months. But in our custom dataframe aimed to explain the logic we will only use small percenta"
   ]
  },
  {
   "cell_type": "code",
   "execution_count": 1,
   "id": "397089db-9761-4f74-b0dd-f6a745121b95",
   "metadata": {},
   "outputs": [],
   "source": [
    "import pandas as pd\n",
    "\n",
    "data = {\n",
    "    'Name': ['Alice', 'Bob', 'Charlie','Josh'],\n",
    "    'Score': [75, 20, 45,90],\n",
    "    'Grade': ['A', 'D', 'C','A']\n",
    "}\n",
    "df = pd.DataFrame(data)"
   ]
  },
  {
   "cell_type": "code",
   "execution_count": 2,
   "id": "e94b49a6-411f-4cdf-8b30-cc57629150b9",
   "metadata": {},
   "outputs": [
    {
     "data": {
      "text/html": [
       "<div>\n",
       "<style scoped>\n",
       "    .dataframe tbody tr th:only-of-type {\n",
       "        vertical-align: middle;\n",
       "    }\n",
       "\n",
       "    .dataframe tbody tr th {\n",
       "        vertical-align: top;\n",
       "    }\n",
       "\n",
       "    .dataframe thead th {\n",
       "        text-align: right;\n",
       "    }\n",
       "</style>\n",
       "<table border=\"1\" class=\"dataframe\">\n",
       "  <thead>\n",
       "    <tr style=\"text-align: right;\">\n",
       "      <th></th>\n",
       "      <th>Name</th>\n",
       "      <th>Score</th>\n",
       "      <th>Grade</th>\n",
       "    </tr>\n",
       "  </thead>\n",
       "  <tbody>\n",
       "    <tr>\n",
       "      <th>0</th>\n",
       "      <td>Alice</td>\n",
       "      <td>75</td>\n",
       "      <td>A</td>\n",
       "    </tr>\n",
       "    <tr>\n",
       "      <th>1</th>\n",
       "      <td>Bob</td>\n",
       "      <td>20</td>\n",
       "      <td>D</td>\n",
       "    </tr>\n",
       "    <tr>\n",
       "      <th>2</th>\n",
       "      <td>Charlie</td>\n",
       "      <td>45</td>\n",
       "      <td>C</td>\n",
       "    </tr>\n",
       "    <tr>\n",
       "      <th>3</th>\n",
       "      <td>Josh</td>\n",
       "      <td>90</td>\n",
       "      <td>A</td>\n",
       "    </tr>\n",
       "  </tbody>\n",
       "</table>\n",
       "</div>"
      ],
      "text/plain": [
       "      Name  Score Grade\n",
       "0    Alice     75     A\n",
       "1      Bob     20     D\n",
       "2  Charlie     45     C\n",
       "3     Josh     90     A"
      ]
     },
     "execution_count": 2,
     "metadata": {},
     "output_type": "execute_result"
    }
   ],
   "source": [
    "df"
   ]
  },
  {
   "cell_type": "markdown",
   "id": "b84a2b1e-8482-4762-93bf-1e1c0a641d8c",
   "metadata": {},
   "source": [
    "## Importance and Unimportance Columns and Supervised Learning\n",
    "\n",
    "We should determine which columns and drop and which to not drop in training our models, thus in our case we wont be needing Name, etc."
   ]
  },
  {
   "cell_type": "code",
   "execution_count": 3,
   "id": "7317ae87-5bfe-486b-9f41-223aa39cbc4d",
   "metadata": {},
   "outputs": [
    {
     "name": "stdout",
     "output_type": "stream",
     "text": [
      "<class 'pandas.core.frame.DataFrame'>\n",
      "RangeIndex: 4 entries, 0 to 3\n",
      "Data columns (total 3 columns):\n",
      " #   Column  Non-Null Count  Dtype \n",
      "---  ------  --------------  ----- \n",
      " 0   Name    4 non-null      object\n",
      " 1   Score   4 non-null      int64 \n",
      " 2   Grade   4 non-null      object\n",
      "dtypes: int64(1), object(2)\n",
      "memory usage: 224.0+ bytes\n"
     ]
    }
   ],
   "source": [
    "df.info()"
   ]
  },
  {
   "cell_type": "code",
   "execution_count": null,
   "id": "d5651933-48a6-4cbb-8d3e-680372cf5396",
   "metadata": {},
   "outputs": [],
   "source": []
  }
 ],
 "metadata": {
  "kernelspec": {
   "display_name": "Python 3 (ipykernel)",
   "language": "python",
   "name": "python3"
  },
  "language_info": {
   "codemirror_mode": {
    "name": "ipython",
    "version": 3
   },
   "file_extension": ".py",
   "mimetype": "text/x-python",
   "name": "python",
   "nbconvert_exporter": "python",
   "pygments_lexer": "ipython3",
   "version": "3.10.8"
  }
 },
 "nbformat": 4,
 "nbformat_minor": 5
}
