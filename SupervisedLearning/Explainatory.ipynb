{
 "cells": [
  {
   "cell_type": "markdown",
   "id": "6f44da45-d256-4b6e-9079-63de52f18356",
   "metadata": {},
   "source": [
    "# Start "
   ]
  },
  {
   "cell_type": "code",
   "execution_count": null,
   "id": "8f9a9be3-48b0-40f5-af0b-a1e328f831e0",
   "metadata": {},
   "outputs": [],
   "source": []
  }
 ],
 "metadata": {
  "kernelspec": {
   "display_name": "Python 3 (ipykernel)",
   "language": "python",
   "name": "python3"
  },
  "language_info": {
   "codemirror_mode": {
    "name": "ipython",
    "version": 3
   },
   "file_extension": ".py",
   "mimetype": "text/x-python",
   "name": "python",
   "nbconvert_exporter": "python",
   "pygments_lexer": "ipython3",
   "version": "3.10.8"
  }
 },
 "nbformat": 4,
 "nbformat_minor": 5
}
