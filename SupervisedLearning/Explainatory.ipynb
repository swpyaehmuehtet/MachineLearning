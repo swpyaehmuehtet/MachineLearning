{
 "cells": [
  {
   "cell_type": "markdown",
   "id": "6f44da45-d256-4b6e-9079-63de52f18356",
   "metadata": {},
   "source": [
    "# Start "
   ]
  },
  {
   "cell_type": "markdown",
   "id": "a7e3c0d2-c090-490b-b3e9-b4536471f12d",
   "metadata": {},
   "source": [
    "Start the explaination of agentic Ai"
   ]
  },
  {
   "cell_type": "code",
   "execution_count": null,
   "id": "38f72d1a-1cda-4e1b-9aa5-36c326e22f9d",
   "metadata": {},
   "outputs": [],
   "source": [
    "another one"
   ]
  }
 ],
 "metadata": {
  "kernelspec": {
   "display_name": "Python 3 (ipykernel)",
   "language": "python",
   "name": "python3"
  },
  "language_info": {
   "codemirror_mode": {
    "name": "ipython",
    "version": 3
   },
   "file_extension": ".py",
   "mimetype": "text/x-python",
   "name": "python",
   "nbconvert_exporter": "python",
   "pygments_lexer": "ipython3",
   "version": "3.10.8"
  }
 },
 "nbformat": 4,
 "nbformat_minor": 5
}
